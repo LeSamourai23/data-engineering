{
  "nbformat": 4,
  "nbformat_minor": 0,
  "metadata": {
    "colab": {
      "provenance": []
    },
    "kernelspec": {
      "name": "python3",
      "display_name": "Python 3"
    },
    "language_info": {
      "name": "python"
    }
  },
  "cells": [
    {
      "cell_type": "markdown",
      "source": [
        "# Setting up Spark"
      ],
      "metadata": {
        "id": "3tywD3z_NgGi"
      }
    },
    {
      "cell_type": "code",
      "execution_count": null,
      "metadata": {
        "colab": {
          "base_uri": "https://localhost:8080/"
        },
        "id": "F5e2LA06tel6",
        "outputId": "718848df-5dcf-4e00-f1d8-ba131529e724"
      },
      "outputs": [
        {
          "output_type": "stream",
          "name": "stdout",
          "text": [
            "Get:1 https://cloud.r-project.org/bin/linux/ubuntu jammy-cran40/ InRelease [3,626 B]\n",
            "Hit:2 https://developer.download.nvidia.com/compute/cuda/repos/ubuntu2204/x86_64  InRelease\n",
            "Hit:3 http://security.ubuntu.com/ubuntu jammy-security InRelease\n",
            "Hit:4 http://archive.ubuntu.com/ubuntu jammy InRelease\n",
            "Hit:5 http://archive.ubuntu.com/ubuntu jammy-updates InRelease\n",
            "Hit:6 http://archive.ubuntu.com/ubuntu jammy-backports InRelease\n",
            "Hit:7 https://ppa.launchpadcontent.net/c2d4u.team/c2d4u4.0+/ubuntu jammy InRelease\n",
            "Hit:8 https://ppa.launchpadcontent.net/deadsnakes/ppa/ubuntu jammy InRelease\n",
            "Hit:9 https://ppa.launchpadcontent.net/graphics-drivers/ppa/ubuntu jammy InRelease\n",
            "Hit:10 https://ppa.launchpadcontent.net/ubuntugis/ppa/ubuntu jammy InRelease\n",
            "Fetched 3,626 B in 2s (1,912 B/s)\n",
            "Reading package lists... Done\n",
            "Building dependency tree... Done\n",
            "Reading state information... Done\n",
            "36 packages can be upgraded. Run 'apt list --upgradable' to see them.\n",
            "Requirement already satisfied: pyspark in /usr/local/lib/python3.10/dist-packages (3.5.0)\n",
            "Requirement already satisfied: py4j==0.10.9.7 in /usr/local/lib/python3.10/dist-packages (from pyspark) (0.10.9.7)\n"
          ]
        }
      ],
      "source": [
        "!sudo apt update\n",
        "!apt-get install openjdk-8-jdk-headless -qq > /dev/null\n",
        "!wget -q https://dlcdn.apache.org/spark/spark-3.4.2/spark-3.4.2-bin-hadoop3.tgz\n",
        "!tar xf spark-3.4.2-bin-hadoop3.tgz\n",
        "!pip install -q findspark\n",
        "!pip install pyspark\n"
      ]
    },
    {
      "cell_type": "code",
      "source": [
        "import os\n",
        "os.environ[\"JAVA_HOME\"] = \"/usr/lib/jvm/java-8-openjdk-amd64\"\n",
        "os.environ[\"SPARK_HOME\"] = \"/content/spark-3.4.2-bin-hadoop3\""
      ],
      "metadata": {
        "id": "GKHLW0v4youK"
      },
      "execution_count": null,
      "outputs": []
    },
    {
      "cell_type": "code",
      "source": [
        "import findspark\n",
        "findspark.init()\n",
        "findspark.find()"
      ],
      "metadata": {
        "colab": {
          "base_uri": "https://localhost:8080/",
          "height": 35
        },
        "id": "EK-pL8V3LpIc",
        "outputId": "bbb649ad-a5b9-4689-c549-13ce0fdd825a"
      },
      "execution_count": null,
      "outputs": [
        {
          "output_type": "execute_result",
          "data": {
            "text/plain": [
              "'/content/spark-3.4.2-bin-hadoop3'"
            ],
            "application/vnd.google.colaboratory.intrinsic+json": {
              "type": "string"
            }
          },
          "metadata": {},
          "execution_count": 13
        }
      ]
    },
    {
      "cell_type": "code",
      "source": [
        "from pyspark.sql import DataFrame, SparkSession\n",
        "from typing import List\n",
        "import pyspark.sql.types as T\n",
        "import pyspark.sql.functions as F"
      ],
      "metadata": {
        "id": "OdD3PlefLvIr"
      },
      "execution_count": null,
      "outputs": []
    },
    {
      "cell_type": "code",
      "source": [
        "spark = SparkSession \\\n",
        "       .builder \\\n",
        "       .appName(\"Our First Spark example\") \\\n",
        "       .getOrCreate()"
      ],
      "metadata": {
        "id": "4d0m4Y-DL-2e"
      },
      "execution_count": null,
      "outputs": []
    },
    {
      "cell_type": "code",
      "source": [
        "spark"
      ],
      "metadata": {
        "colab": {
          "base_uri": "https://localhost:8080/",
          "height": 219
        },
        "id": "x2z-doYeMErA",
        "outputId": "fe0a0123-8c4d-4c38-cc60-9f35557f3210"
      },
      "execution_count": null,
      "outputs": [
        {
          "output_type": "execute_result",
          "data": {
            "text/plain": [
              "<pyspark.sql.session.SparkSession at 0x7dec72cc4b80>"
            ],
            "text/html": [
              "\n",
              "            <div>\n",
              "                <p><b>SparkSession - in-memory</b></p>\n",
              "                \n",
              "        <div>\n",
              "            <p><b>SparkContext</b></p>\n",
              "\n",
              "            <p><a href=\"http://fd2bf9af2f5b:4040\">Spark UI</a></p>\n",
              "\n",
              "            <dl>\n",
              "              <dt>Version</dt>\n",
              "                <dd><code>v3.4.2</code></dd>\n",
              "              <dt>Master</dt>\n",
              "                <dd><code>local[*]</code></dd>\n",
              "              <dt>AppName</dt>\n",
              "                <dd><code>Our First Spark example</code></dd>\n",
              "            </dl>\n",
              "        </div>\n",
              "        \n",
              "            </div>\n",
              "        "
            ]
          },
          "metadata": {},
          "execution_count": 17
        }
      ]
    },
    {
      "cell_type": "markdown",
      "source": [
        "# Loading Data"
      ],
      "metadata": {
        "id": "8sFzkltcNdDp"
      }
    },
    {
      "cell_type": "code",
      "source": [
        "from pyspark.sql import SparkSession\n",
        "from pyspark.sql.types import StructField, StructType, StringType, IntegerType, FloatType\n",
        "from pyspark.sql.functions import split, count, when, isnan, col, regexp_replace\n",
        "from pyspark.ml.regression import LinearRegression\n",
        "from pyspark.ml.feature import OneHotEncoder, StringIndexer\n",
        "from pyspark.ml.linalg import Vectors\n",
        "from pyspark.ml.feature import VectorAssembler"
      ],
      "metadata": {
        "id": "YIq_8GMtOEqI"
      },
      "execution_count": null,
      "outputs": []
    },
    {
      "cell_type": "code",
      "source": [
        "# Define a schema\n",
        "schema = StructType([StructField('mpg', FloatType(), nullable = True),\n",
        "                     StructField('cylinders', IntegerType(), nullable = True),\n",
        "                     StructField('displacement', FloatType(), nullable = True),\n",
        "                     StructField('horsepower', StringType(), nullable = True),\n",
        "                     StructField('weight', IntegerType(), nullable = True),\n",
        "                     StructField('acceleration', FloatType(), nullable = True),\n",
        "                     StructField('model year', IntegerType(), nullable = True),\n",
        "                     StructField('origin', IntegerType(), nullable = True),\n",
        "                     StructField('car name', StringType(), nullable = True)])\n",
        "\n",
        "file_path = '/content/auto-mpg.csv'"
      ],
      "metadata": {
        "id": "JkB8ZDNCNG7E"
      },
      "execution_count": null,
      "outputs": []
    },
    {
      "cell_type": "code",
      "source": [
        "df = spark.read.csv(file_path, header = True, inferSchema = True, nanValue = '?')\n",
        "df.show(5)"
      ],
      "metadata": {
        "colab": {
          "base_uri": "https://localhost:8080/"
        },
        "id": "-zEPbTpuOie8",
        "outputId": "0f5fcc67-a12b-40a4-dbd8-7fd2d4ff1666"
      },
      "execution_count": null,
      "outputs": [
        {
          "output_type": "stream",
          "name": "stdout",
          "text": [
            "+----+---------+------------+----------+------+------------+----------+------+--------------------+\n",
            "| mpg|cylinders|displacement|horsepower|weight|acceleration|model year|origin|            car name|\n",
            "+----+---------+------------+----------+------+------------+----------+------+--------------------+\n",
            "|18.0|        8|       307.0|     130.0|  3504|        12.0|        70|     1|chevrolet chevell...|\n",
            "|15.0|        8|       350.0|     165.0|  3693|        11.5|        70|     1|   buick skylark 320|\n",
            "|18.0|        8|       318.0|     150.0|  3436|        11.0|        70|     1|  plymouth satellite|\n",
            "|16.0|        8|       304.0|     150.0|  3433|        12.0|        70|     1|       amc rebel sst|\n",
            "|17.0|        8|       302.0|     140.0|  3449|        10.5|        70|     1|         ford torino|\n",
            "+----+---------+------------+----------+------+------------+----------+------+--------------------+\n",
            "only showing top 5 rows\n",
            "\n"
          ]
        }
      ]
    },
    {
      "cell_type": "code",
      "source": [
        "# Check for missing values\n",
        "def check_missing(dataframe):\n",
        "\n",
        "  return dataframe.select([count(when(isnan(c) | col(c).isNull(), c)). \\\n",
        "                           alias(c) for c in dataframe.columns]).show()\n",
        "\n",
        "check_missing(df)"
      ],
      "metadata": {
        "colab": {
          "base_uri": "https://localhost:8080/"
        },
        "id": "b8aHJLc2Orfm",
        "outputId": "3f0f334b-494c-4ae1-9e16-105734a6a8cd"
      },
      "execution_count": null,
      "outputs": [
        {
          "output_type": "stream",
          "name": "stdout",
          "text": [
            "+---+---------+------------+----------+------+------------+----------+------+--------+\n",
            "|mpg|cylinders|displacement|horsepower|weight|acceleration|model year|origin|car name|\n",
            "+---+---------+------------+----------+------+------------+----------+------+--------+\n",
            "|  0|        0|           0|         6|     0|           0|         0|     0|       0|\n",
            "+---+---------+------------+----------+------+------------+----------+------+--------+\n",
            "\n"
          ]
        }
      ]
    },
    {
      "cell_type": "code",
      "source": [
        "# Handling Missing Values\n",
        "df = df.na.drop()\n",
        "\n",
        "df = df.withColumn(\"horsepower\", df[\"horsepower\"].cast(IntegerType()))   # Convert Horsepower from str to int\n",
        "\n",
        "df.show(5)"
      ],
      "metadata": {
        "colab": {
          "base_uri": "https://localhost:8080/"
        },
        "id": "-5KQRO5UQEST",
        "outputId": "335f9201-3d5e-48a0-faec-ec9a8fad08f0"
      },
      "execution_count": null,
      "outputs": [
        {
          "output_type": "stream",
          "name": "stdout",
          "text": [
            "+----+---------+------------+----------+------+------------+----------+------+--------------------+\n",
            "| mpg|cylinders|displacement|horsepower|weight|acceleration|model year|origin|            car name|\n",
            "+----+---------+------------+----------+------+------------+----------+------+--------------------+\n",
            "|18.0|        8|       307.0|       130|  3504|        12.0|        70|     1|chevrolet chevell...|\n",
            "|15.0|        8|       350.0|       165|  3693|        11.5|        70|     1|   buick skylark 320|\n",
            "|18.0|        8|       318.0|       150|  3436|        11.0|        70|     1|  plymouth satellite|\n",
            "|16.0|        8|       304.0|       150|  3433|        12.0|        70|     1|       amc rebel sst|\n",
            "|17.0|        8|       302.0|       140|  3449|        10.5|        70|     1|         ford torino|\n",
            "+----+---------+------------+----------+------+------------+----------+------+--------------------+\n",
            "only showing top 5 rows\n",
            "\n"
          ]
        }
      ]
    },
    {
      "cell_type": "markdown",
      "source": [
        "# PySpark DataFrame Basics"
      ],
      "metadata": {
        "id": "cPCzus5dTexB"
      }
    },
    {
      "cell_type": "code",
      "source": [
        "df.columns"
      ],
      "metadata": {
        "colab": {
          "base_uri": "https://localhost:8080/"
        },
        "id": "KE8p_lsoTbt2",
        "outputId": "50ae9fcc-d4a3-437b-e9b9-11912fe9b26a"
      },
      "execution_count": null,
      "outputs": [
        {
          "output_type": "execute_result",
          "data": {
            "text/plain": [
              "['mpg',\n",
              " 'cylinders',\n",
              " 'displacement',\n",
              " 'horsepower',\n",
              " 'weight',\n",
              " 'acceleration',\n",
              " 'model year',\n",
              " 'origin',\n",
              " 'car name']"
            ]
          },
          "metadata": {},
          "execution_count": 29
        }
      ]
    },
    {
      "cell_type": "code",
      "source": [
        "df.printSchema()"
      ],
      "metadata": {
        "colab": {
          "base_uri": "https://localhost:8080/"
        },
        "id": "AxXp5gJ2TkOU",
        "outputId": "7bdac9bb-72e5-4290-dbcb-0244996e98d4"
      },
      "execution_count": null,
      "outputs": [
        {
          "output_type": "stream",
          "name": "stdout",
          "text": [
            "root\n",
            " |-- mpg: double (nullable = true)\n",
            " |-- cylinders: integer (nullable = true)\n",
            " |-- displacement: double (nullable = true)\n",
            " |-- horsepower: integer (nullable = true)\n",
            " |-- weight: integer (nullable = true)\n",
            " |-- acceleration: double (nullable = true)\n",
            " |-- model year: integer (nullable = true)\n",
            " |-- origin: integer (nullable = true)\n",
            " |-- car name: string (nullable = true)\n",
            "\n"
          ]
        }
      ]
    },
    {
      "cell_type": "code",
      "source": [
        "# Renaming Columns\n",
        "df = df.withColumnRenamed('model year', 'model_year')\n",
        "\n",
        "df = df.withColumnRenamed('car name', 'car_name')"
      ],
      "metadata": {
        "id": "kgisv-dYTzOo"
      },
      "execution_count": null,
      "outputs": []
    },
    {
      "cell_type": "code",
      "source": [
        "df.show(3)"
      ],
      "metadata": {
        "colab": {
          "base_uri": "https://localhost:8080/"
        },
        "id": "C0ZRS7RcURoB",
        "outputId": "928fb61c-3446-4e3e-f071-876465ac3def"
      },
      "execution_count": null,
      "outputs": [
        {
          "output_type": "stream",
          "name": "stdout",
          "text": [
            "+----+---------+------------+----------+------+------------+----------+------+--------------------+\n",
            "| mpg|cylinders|displacement|horsepower|weight|acceleration|model_year|origin|            car_name|\n",
            "+----+---------+------------+----------+------+------------+----------+------+--------------------+\n",
            "|18.0|        8|       307.0|       130|  3504|        12.0|        70|     1|chevrolet chevell...|\n",
            "|15.0|        8|       350.0|       165|  3693|        11.5|        70|     1|   buick skylark 320|\n",
            "|18.0|        8|       318.0|       150|  3436|        11.0|        70|     1|  plymouth satellite|\n",
            "+----+---------+------------+----------+------+------------+----------+------+--------------------+\n",
            "only showing top 3 rows\n",
            "\n"
          ]
        }
      ]
    },
    {
      "cell_type": "code",
      "source": [
        "# Get info from first 4 rows\n",
        "for car in df.head(4):\n",
        "    print(car, '\\n')"
      ],
      "metadata": {
        "colab": {
          "base_uri": "https://localhost:8080/"
        },
        "id": "N0taUjXBUUZz",
        "outputId": "2e887f33-38f8-4d80-90ee-d58b297fd24d"
      },
      "execution_count": null,
      "outputs": [
        {
          "output_type": "stream",
          "name": "stdout",
          "text": [
            "Row(mpg=18.0, cylinders=8, displacement=307.0, horsepower=130, weight=3504, acceleration=12.0, model_year=70, origin=1, car_name='chevrolet chevelle malibu') \n",
            "\n",
            "Row(mpg=15.0, cylinders=8, displacement=350.0, horsepower=165, weight=3693, acceleration=11.5, model_year=70, origin=1, car_name='buick skylark 320') \n",
            "\n",
            "Row(mpg=18.0, cylinders=8, displacement=318.0, horsepower=150, weight=3436, acceleration=11.0, model_year=70, origin=1, car_name='plymouth satellite') \n",
            "\n",
            "Row(mpg=16.0, cylinders=8, displacement=304.0, horsepower=150, weight=3433, acceleration=12.0, model_year=70, origin=1, car_name='amc rebel sst') \n",
            "\n"
          ]
        }
      ]
    },
    {
      "cell_type": "code",
      "source": [
        "# statistical summary of dataframe\n",
        "df.describe().show()"
      ],
      "metadata": {
        "colab": {
          "base_uri": "https://localhost:8080/"
        },
        "id": "i8kPAonTUa_A",
        "outputId": "eaa33205-b073-4d56-ed8f-1ac039fe79b5"
      },
      "execution_count": null,
      "outputs": [
        {
          "output_type": "stream",
          "name": "stdout",
          "text": [
            "+-------+-----------------+------------------+------------------+------------------+------------------+------------------+-----------------+------------------+--------------------+\n",
            "|summary|              mpg|         cylinders|      displacement|        horsepower|            weight|      acceleration|       model_year|            origin|            car_name|\n",
            "+-------+-----------------+------------------+------------------+------------------+------------------+------------------+-----------------+------------------+--------------------+\n",
            "|  count|              392|               392|               392|               392|               392|               392|              392|               392|                 392|\n",
            "|   mean|23.44591836734694| 5.471938775510204|194.41198979591837|104.46938775510205|2977.5841836734694|15.541326530612228| 75.9795918367347|1.5765306122448979|                null|\n",
            "| stddev|7.805007486571802|1.7057832474527845|104.64400390890465| 38.49115993282846| 849.4025600429486|  2.75886411918808|3.683736543577868|0.8055181834183057|                null|\n",
            "|    min|              9.0|                 3|              68.0|                46|              1613|               8.0|               70|                 1|amc ambassador br...|\n",
            "|    max|             46.6|                 8|             455.0|               230|              5140|              24.8|               82|                 3|    vw rabbit custom|\n",
            "+-------+-----------------+------------------+------------------+------------------+------------------+------------------+-----------------+------------------+--------------------+\n",
            "\n"
          ]
        }
      ]
    },
    {
      "cell_type": "code",
      "source": [
        "# describe with specific variables\n",
        "df.describe(['mpg', 'horsepower']).show()"
      ],
      "metadata": {
        "colab": {
          "base_uri": "https://localhost:8080/"
        },
        "id": "_IGgTn7aUinu",
        "outputId": "655ee8a4-9190-46f6-89ad-a6edb24fcdfd"
      },
      "execution_count": null,
      "outputs": [
        {
          "output_type": "stream",
          "name": "stdout",
          "text": [
            "+-------+-----------------+------------------+\n",
            "|summary|              mpg|        horsepower|\n",
            "+-------+-----------------+------------------+\n",
            "|  count|              392|               392|\n",
            "|   mean|23.44591836734694|104.46938775510205|\n",
            "| stddev|7.805007486571802| 38.49115993282846|\n",
            "|    min|              9.0|                46|\n",
            "|    max|             46.6|               230|\n",
            "+-------+-----------------+------------------+\n",
            "\n"
          ]
        }
      ]
    },
    {
      "cell_type": "code",
      "source": [
        "# Describe with numerical columns\n",
        "def get_num_cols(dataframe):\n",
        "\n",
        "  num_cols = [col for col in dataframe.columns if dataframe.select(col). \\\n",
        "              dtypes[0][1] in ['double', 'int']]\n",
        "\n",
        "  return num_cols\n",
        "\n",
        "num_cols = get_num_cols(df)\n",
        "\n",
        "df.describe(num_cols).show()"
      ],
      "metadata": {
        "colab": {
          "base_uri": "https://localhost:8080/"
        },
        "id": "pbjiNa8LV6K4",
        "outputId": "ee75db48-fd3a-452f-cf9e-7ceb88b74044"
      },
      "execution_count": null,
      "outputs": [
        {
          "output_type": "stream",
          "name": "stdout",
          "text": [
            "+-------+-----------------+------------------+------------------+------------------+------------------+------------------+-----------------+------------------+\n",
            "|summary|              mpg|         cylinders|      displacement|        horsepower|            weight|      acceleration|       model_year|            origin|\n",
            "+-------+-----------------+------------------+------------------+------------------+------------------+------------------+-----------------+------------------+\n",
            "|  count|              392|               392|               392|               392|               392|               392|              392|               392|\n",
            "|   mean|23.44591836734694| 5.471938775510204|194.41198979591837|104.46938775510205|2977.5841836734694|15.541326530612228| 75.9795918367347|1.5765306122448979|\n",
            "| stddev|7.805007486571802|1.7057832474527845|104.64400390890465| 38.49115993282846| 849.4025600429486|  2.75886411918808|3.683736543577868|0.8055181834183057|\n",
            "|    min|              9.0|                 3|              68.0|                46|              1613|               8.0|               70|                 1|\n",
            "|    max|             46.6|                 8|             455.0|               230|              5140|              24.8|               82|                 3|\n",
            "+-------+-----------------+------------------+------------------+------------------+------------------+------------------+-----------------+------------------+\n",
            "\n"
          ]
        }
      ]
    },
    {
      "cell_type": "markdown",
      "source": [
        "# Spark DataFrame Basic Operations"
      ],
      "metadata": {
        "id": "LQ7NctnTXF2m"
      }
    },
    {
      "cell_type": "markdown",
      "source": [
        "### Filtering and Sorting"
      ],
      "metadata": {
        "id": "sbJwdp-iXLMT"
      }
    },
    {
      "cell_type": "code",
      "source": [
        "# Get the cars with mpg more than 23\n",
        "df.filter(df['mpg'] > 23).show(5)"
      ],
      "metadata": {
        "colab": {
          "base_uri": "https://localhost:8080/"
        },
        "id": "HshD03mKXJf5",
        "outputId": "9e0aa15b-e413-4d07-d705-a5c153fe24ec"
      },
      "execution_count": null,
      "outputs": [
        {
          "output_type": "stream",
          "name": "stdout",
          "text": [
            "+----+---------+------------+----------+------+------------+----------+------+--------------------+\n",
            "| mpg|cylinders|displacement|horsepower|weight|acceleration|model_year|origin|            car_name|\n",
            "+----+---------+------------+----------+------+------------+----------+------+--------------------+\n",
            "|24.0|        4|       113.0|        95|  2372|        15.0|        70|     3|toyota corona mar...|\n",
            "|27.0|        4|        97.0|        88|  2130|        14.5|        70|     3|        datsun pl510|\n",
            "|26.0|        4|        97.0|        46|  1835|        20.5|        70|     2|volkswagen 1131 d...|\n",
            "|25.0|        4|       110.0|        87|  2672|        17.5|        70|     2|         peugeot 504|\n",
            "|24.0|        4|       107.0|        90|  2430|        14.5|        70|     2|         audi 100 ls|\n",
            "+----+---------+------------+----------+------+------------+----------+------+--------------------+\n",
            "only showing top 5 rows\n",
            "\n"
          ]
        }
      ]
    },
    {
      "cell_type": "code",
      "source": [
        "# Multiple Conditions\n",
        "df.filter((df['horsepower'] > 80) &\n",
        "          (df['weight'] > 2000)).select('car_name').show(5)"
      ],
      "metadata": {
        "colab": {
          "base_uri": "https://localhost:8080/"
        },
        "id": "BMc7KuPFXapW",
        "outputId": "a9f9aec6-a0aa-4c4b-d58e-4516b1520868"
      },
      "execution_count": null,
      "outputs": [
        {
          "output_type": "stream",
          "name": "stdout",
          "text": [
            "+--------------------+\n",
            "|            car_name|\n",
            "+--------------------+\n",
            "|chevrolet chevell...|\n",
            "|   buick skylark 320|\n",
            "|  plymouth satellite|\n",
            "|       amc rebel sst|\n",
            "|         ford torino|\n",
            "+--------------------+\n",
            "only showing top 5 rows\n",
            "\n"
          ]
        }
      ]
    },
    {
      "cell_type": "code",
      "source": [
        "# Sorting\n",
        "df.filter((df['mpg'] > 25) & (df['origin'] == 2)). \\\n",
        "orderBy('mpg', ascending= False).show(5)"
      ],
      "metadata": {
        "colab": {
          "base_uri": "https://localhost:8080/"
        },
        "id": "y5VySw7uYnAF",
        "outputId": "def26b99-4abc-43fe-bdf1-ed86f1bcdf8e"
      },
      "execution_count": null,
      "outputs": [
        {
          "output_type": "stream",
          "name": "stdout",
          "text": [
            "+----+---------+------------+----------+------+------------+----------+------+--------------------+\n",
            "| mpg|cylinders|displacement|horsepower|weight|acceleration|model_year|origin|            car_name|\n",
            "+----+---------+------------+----------+------+------------+----------+------+--------------------+\n",
            "|44.3|        4|        90.0|        48|  2085|        21.7|        80|     2|vw rabbit c (diesel)|\n",
            "|44.0|        4|        97.0|        52|  2130|        24.6|        82|     2|           vw pickup|\n",
            "|43.4|        4|        90.0|        48|  2335|        23.7|        80|     2|  vw dasher (diesel)|\n",
            "|43.1|        4|        90.0|        48|  1985|        21.5|        78|     2|volkswagen rabbit...|\n",
            "|41.5|        4|        98.0|        76|  2144|        14.7|        80|     2|           vw rabbit|\n",
            "+----+---------+------------+----------+------+------------+----------+------+--------------------+\n",
            "only showing top 5 rows\n",
            "\n"
          ]
        }
      ]
    },
    {
      "cell_type": "code",
      "source": [
        "# Get the cars with 'volkswagen' in their names, and sort them by model year and horsepower\n",
        "df.filter(df['car_name'].contains('volkswagen')). \\\n",
        "orderBy(['model_year', 'horsepower'], ascending=[False, False]).show(5)"
      ],
      "metadata": {
        "colab": {
          "base_uri": "https://localhost:8080/"
        },
        "id": "6pwKHWy1Y5zm",
        "outputId": "02429bc0-561f-4e7f-a436-8a6984a1a4aa"
      },
      "execution_count": null,
      "outputs": [
        {
          "output_type": "stream",
          "name": "stdout",
          "text": [
            "+----+---------+------------+----------+------+------------+----------+------+--------------------+\n",
            "| mpg|cylinders|displacement|horsepower|weight|acceleration|model_year|origin|            car_name|\n",
            "+----+---------+------------+----------+------+------------+----------+------+--------------------+\n",
            "|36.0|        4|       105.0|        74|  1980|        15.3|        82|     2| volkswagen rabbit l|\n",
            "|33.0|        4|       105.0|        74|  2190|        14.2|        81|     2|    volkswagen jetta|\n",
            "|31.5|        4|        89.0|        71|  1990|        14.9|        78|     2| volkswagen scirocco|\n",
            "|43.1|        4|        90.0|        48|  1985|        21.5|        78|     2|volkswagen rabbit...|\n",
            "|29.0|        4|        97.0|        78|  1940|        14.5|        77|     2|volkswagen rabbit...|\n",
            "+----+---------+------------+----------+------+------------+----------+------+--------------------+\n",
            "only showing top 5 rows\n",
            "\n"
          ]
        }
      ]
    },
    {
      "cell_type": "markdown",
      "source": [
        "### Filtering with SQL"
      ],
      "metadata": {
        "id": "XUE7NZ8DZtjT"
      }
    },
    {
      "cell_type": "code",
      "source": [
        "# Get the cars with Toyota in their names\n",
        "df.filter(\"car_name like '%toyota%'\").show(5)"
      ],
      "metadata": {
        "colab": {
          "base_uri": "https://localhost:8080/"
        },
        "id": "oOcm1J5UZaxH",
        "outputId": "abdaf2e3-11c5-439c-d2a2-e6bdc35c105f"
      },
      "execution_count": null,
      "outputs": [
        {
          "output_type": "stream",
          "name": "stdout",
          "text": [
            "+----+---------+------------+----------+------+------------+----------+------+--------------------+\n",
            "| mpg|cylinders|displacement|horsepower|weight|acceleration|model_year|origin|            car_name|\n",
            "+----+---------+------------+----------+------+------------+----------+------+--------------------+\n",
            "|24.0|        4|       113.0|        95|  2372|        15.0|        70|     3|toyota corona mar...|\n",
            "|25.0|        4|       113.0|        95|  2228|        14.0|        71|     3|       toyota corona|\n",
            "|31.0|        4|        71.0|        65|  1773|        19.0|        71|     3| toyota corolla 1200|\n",
            "|24.0|        4|       113.0|        95|  2278|        15.5|        72|     3|toyota corona har...|\n",
            "|27.0|        4|        97.0|        88|  2100|        16.5|        72|     3|toyota corolla 16...|\n",
            "+----+---------+------------+----------+------+------------+----------+------+--------------------+\n",
            "only showing top 5 rows\n",
            "\n"
          ]
        }
      ]
    },
    {
      "cell_type": "code",
      "source": [
        "df.filter('mpg > 22').show(5)"
      ],
      "metadata": {
        "colab": {
          "base_uri": "https://localhost:8080/"
        },
        "id": "l7VwjNMpbOa8",
        "outputId": "d50351ed-66d4-456e-ee84-603c9efeb65d"
      },
      "execution_count": null,
      "outputs": [
        {
          "output_type": "stream",
          "name": "stdout",
          "text": [
            "+----+---------+------------+----------+------+------------+----------+------+--------------------+\n",
            "| mpg|cylinders|displacement|horsepower|weight|acceleration|model_year|origin|            car_name|\n",
            "+----+---------+------------+----------+------+------------+----------+------+--------------------+\n",
            "|24.0|        4|       113.0|        95|  2372|        15.0|        70|     3|toyota corona mar...|\n",
            "|27.0|        4|        97.0|        88|  2130|        14.5|        70|     3|        datsun pl510|\n",
            "|26.0|        4|        97.0|        46|  1835|        20.5|        70|     2|volkswagen 1131 d...|\n",
            "|25.0|        4|       110.0|        87|  2672|        17.5|        70|     2|         peugeot 504|\n",
            "|24.0|        4|       107.0|        90|  2430|        14.5|        70|     2|         audi 100 ls|\n",
            "+----+---------+------------+----------+------+------------+----------+------+--------------------+\n",
            "only showing top 5 rows\n",
            "\n"
          ]
        }
      ]
    },
    {
      "cell_type": "code",
      "source": [
        "#Multiple Conditions\n",
        "df.filter('mpg > 22 and acceleration < 15').show(5)"
      ],
      "metadata": {
        "colab": {
          "base_uri": "https://localhost:8080/"
        },
        "id": "3Ln6Jn9obYmV",
        "outputId": "b9132d91-1d85-47da-bd53-2d7e88588ed7"
      },
      "execution_count": null,
      "outputs": [
        {
          "output_type": "stream",
          "name": "stdout",
          "text": [
            "+----+---------+------------+----------+------+------------+----------+------+-------------+\n",
            "| mpg|cylinders|displacement|horsepower|weight|acceleration|model_year|origin|     car_name|\n",
            "+----+---------+------------+----------+------+------------+----------+------+-------------+\n",
            "|27.0|        4|        97.0|        88|  2130|        14.5|        70|     3| datsun pl510|\n",
            "|24.0|        4|       107.0|        90|  2430|        14.5|        70|     2|  audi 100 ls|\n",
            "|26.0|        4|       121.0|       113|  2234|        12.5|        70|     2|     bmw 2002|\n",
            "|27.0|        4|        97.0|        88|  2130|        14.5|        71|     3| datsun pl510|\n",
            "|25.0|        4|       113.0|        95|  2228|        14.0|        71|     3|toyota corona|\n",
            "+----+---------+------------+----------+------+------------+----------+------+-------------+\n",
            "only showing top 5 rows\n",
            "\n"
          ]
        }
      ]
    },
    {
      "cell_type": "code",
      "source": [
        "df.filter('horsepower == 88 and weight between 2600 and 3000') \\\n",
        ".select(['horsepower', 'weight', 'car_name']).show()"
      ],
      "metadata": {
        "colab": {
          "base_uri": "https://localhost:8080/"
        },
        "id": "O4kKOg0LbfIf",
        "outputId": "d93784f2-403d-4f60-ad6b-a2fbfa155b05"
      },
      "execution_count": null,
      "outputs": [
        {
          "output_type": "stream",
          "name": "stdout",
          "text": [
            "+----------+------+--------------------+\n",
            "|horsepower|weight|            car_name|\n",
            "+----------+------+--------------------+\n",
            "|        88|  2957|         peugeot 504|\n",
            "|        88|  2740|pontiac sunbird c...|\n",
            "|        88|  2720| ford fairmont (man)|\n",
            "|        88|  2890|     ford fairmont 4|\n",
            "|        88|  2870|       ford fairmont|\n",
            "|        88|  2605|  chevrolet cavalier|\n",
            "|        88|  2640|chevrolet cavalie...|\n",
            "+----------+------+--------------------+\n",
            "\n"
          ]
        }
      ]
    },
    {
      "cell_type": "markdown",
      "source": [
        "# GroupBy and Aggregate Operations"
      ],
      "metadata": {
        "id": "QxDqSPhDb11W"
      }
    },
    {
      "cell_type": "code",
      "source": [
        "# Brands\n",
        "df.createOrReplaceTempView('auto_mpg')\n",
        "\n",
        "df = df.withColumn('brand', split(df['car_name'], ' ').getItem(0)).drop('car_name')\n",
        "\n",
        "# Replacing Misspelled Brands\n",
        "auto_misspelled = {'chevroelt': 'chevrolet',\n",
        "                   'chevy': 'chevrolet',\n",
        "                   'vokswagen': 'volkswagen',\n",
        "                   'vw': 'volkswagen',\n",
        "                   'hi': 'harvester',\n",
        "                   'maxda': 'mazda',\n",
        "                   'toyouta': 'toyota',\n",
        "                   'mercedes-benz': 'mercedes'}\n",
        "\n",
        "for key in auto_misspelled.keys():\n",
        "\n",
        "  df = df.withColumn('brand', regexp_replace('brand', key, auto_misspelled[key]))\n",
        "\n",
        "df.show(5)"
      ],
      "metadata": {
        "colab": {
          "base_uri": "https://localhost:8080/"
        },
        "id": "z42UG-dRb7MR",
        "outputId": "1d4a91ea-4a97-4ab8-a42b-6498531caa9b"
      },
      "execution_count": null,
      "outputs": [
        {
          "output_type": "stream",
          "name": "stdout",
          "text": [
            "+----+---------+------------+----------+------+------------+----------+------+---------+\n",
            "| mpg|cylinders|displacement|horsepower|weight|acceleration|model_year|origin|    brand|\n",
            "+----+---------+------------+----------+------+------------+----------+------+---------+\n",
            "|18.0|        8|       307.0|       130|  3504|        12.0|        70|     1|chevrolet|\n",
            "|15.0|        8|       350.0|       165|  3693|        11.5|        70|     1|    buick|\n",
            "|18.0|        8|       318.0|       150|  3436|        11.0|        70|     1| plymouth|\n",
            "|16.0|        8|       304.0|       150|  3433|        12.0|        70|     1|      amc|\n",
            "|17.0|        8|       302.0|       140|  3449|        10.5|        70|     1|     ford|\n",
            "+----+---------+------------+----------+------+------------+----------+------+---------+\n",
            "only showing top 5 rows\n",
            "\n"
          ]
        }
      ]
    },
    {
      "cell_type": "code",
      "source": [
        "# Average acceleration by car brands\n",
        "df.groupBy('brand').agg({'acceleration': 'mean'}).show(5)"
      ],
      "metadata": {
        "colab": {
          "base_uri": "https://localhost:8080/"
        },
        "id": "OCizchtcfEW1",
        "outputId": "b9503982-8635-4f88-c71e-a78e10bdf885"
      },
      "execution_count": null,
      "outputs": [
        {
          "output_type": "stream",
          "name": "stdout",
          "text": [
            "+--------+------------------+\n",
            "|   brand| avg(acceleration)|\n",
            "+--------+------------------+\n",
            "|   buick|14.700000000000003|\n",
            "| pontiac|14.081249999999999|\n",
            "|mercedes| 19.53333333333333|\n",
            "|  toyota| 16.03846153846154|\n",
            "|    saab|            15.175|\n",
            "+--------+------------------+\n",
            "only showing top 5 rows\n",
            "\n"
          ]
        }
      ]
    },
    {
      "cell_type": "code",
      "source": [
        "# Max MPG by car brands\n",
        "df.groupBy('brand').agg({'mpg': 'max'}).show(5)"
      ],
      "metadata": {
        "colab": {
          "base_uri": "https://localhost:8080/"
        },
        "id": "aFwgahncfdiU",
        "outputId": "7003b9ed-ef5c-43f6-e1eb-a3bb72b74528"
      },
      "execution_count": null,
      "outputs": [
        {
          "output_type": "stream",
          "name": "stdout",
          "text": [
            "+--------+--------+\n",
            "|   brand|max(mpg)|\n",
            "+--------+--------+\n",
            "|   buick|    30.0|\n",
            "| pontiac|    33.5|\n",
            "|mercedes|    30.0|\n",
            "|  toyota|    39.1|\n",
            "|    saab|    25.0|\n",
            "+--------+--------+\n",
            "only showing top 5 rows\n",
            "\n"
          ]
        }
      ]
    },
    {
      "cell_type": "code",
      "source": [
        "# End Session\n",
        "spark.stop()"
      ],
      "metadata": {
        "id": "AmJ2u6Opfg30"
      },
      "execution_count": null,
      "outputs": []
    }
  ]
}